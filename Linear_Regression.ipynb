{
 "cells": [
  {
   "cell_type": "code",
   "execution_count": 1,
   "metadata": {},
   "outputs": [],
   "source": [
    "import math\n",
    "import numpy as np\n",
    "import matplotlib.pyplot as plt\n",
    "from numpy import linalg as LA"
   ]
  },
  {
   "cell_type": "markdown",
   "metadata": {},
   "source": [
    "*Below is the definition of a function which calculates the optimal regression value*"
   ]
  },
  {
   "cell_type": "code",
   "execution_count": 2,
   "metadata": {},
   "outputs": [],
   "source": [
    "def optimal_reg_value(X,Y):\n",
    "    \n",
    "    optimal = LA.inv(X.T.dot(X)).dot((X.T.dot(Y))).reshape(-1,1)\n",
    "    return optimal"
   ]
  },
  {
   "cell_type": "markdown",
   "metadata": {},
   "source": [
    "*Below is a function that takes a dataset and outputs the optimal regression value using the closed-form solution and then plots the data in 2D.*"
   ]
  },
  {
   "cell_type": "code",
   "execution_count": 3,
   "metadata": {},
   "outputs": [],
   "source": [
    "def regression(data):\n",
    "    \n",
    "    X = np.array([[x[0], 1] for x in data])\n",
    "    Y = np.array([y[1] for y in data])\n",
    "    op = optimal_reg_value(X,Y)\n",
    "    print(\"Optimal values: \", op)\n",
    "    l = [i[0] for i in data]\n",
    "    m = [i[1] for i in data]\n",
    "    n = [i[0] for i in X.dot(op)]\n",
    "    plt.plot(l , m , 'o')\n",
    "    plt.plot(l , n)\n",
    "    plt.xlabel(\"X\")\n",
    "    plt.ylabel(\"Y\")\n",
    "    plt.xlim(-1, 2)\n",
    "    plt.ylim(0, 3)\n",
    "    plt.show()\n",
    "    \n",
    "    return"
   ]
  },
  {
   "cell_type": "code",
   "execution_count": 4,
   "metadata": {
    "scrolled": true
   },
   "outputs": [
    {
     "name": "stdout",
     "output_type": "stream",
     "text": [
      "Optimal values:  [[0.90305437]\n",
      " [0.37216249]]\n"
     ]
    },
    {
     "data": {
      "image/png": "[encoded data removed]",
      "text/plain": [
       "<Figure size 432x288 with 1 Axes>"
      ]
     },
     "metadata": {
      "needs_background": "light"
     },
     "output_type": "display_data"
    }
   ],
   "source": [
    "input1 = [(0.10, 0.65),(0.50, 0.10),(0.90, 0.35),(-0.20, 0.17),(-0.5, 0.42),(1.50, 2.62)]\n",
    "regression(input1)"
   ]
  },
  {
   "cell_type": "markdown",
   "metadata": {},
   "source": [
    "*Removing the last point from the data and repeating the previous part:*"
   ]
  },
  {
   "cell_type": "code",
   "execution_count": 5,
   "metadata": {},
   "outputs": [
    {
     "name": "stdout",
     "output_type": "stream",
     "text": [
      "Optimal values:  [[-0.06850649]\n",
      " [ 0.34896104]]\n"
     ]
    },
    {
     "data": {
      "image/png": "[encoded data removed]",
      "text/plain": [
       "<Figure size 432x288 with 1 Axes>"
      ]
     },
     "metadata": {
      "needs_background": "light"
     },
     "output_type": "display_data"
    }
   ],
   "source": [
    "input2 = [(0.10, 0.65),(0.50, 0.10),(0.90, 0.35),(-0.20, 0.17),(-0.5, 0.42)]\n",
    "regression(input2)"
   ]
  },
  {
   "cell_type": "markdown",
   "metadata": {},
   "source": [
    "The new estimated line appears to be a better fit. This makes sense since the point which was removed was an outlier."
   ]
  }
 ],
 "metadata": {
  "kernelspec": {
   "display_name": "Python 3",
   "language": "python",
   "name": "python3"
  },
  "language_info": {
   "codemirror_mode": {
    "name": "ipython",
    "version": 3
   },
   "file_extension": ".py",
   "mimetype": "text/x-python",
   "name": "python",
   "nbconvert_exporter": "python",
   "pygments_lexer": "ipython3",
   "version": "3.7.3"
  }
 },
 "nbformat": 4,
 "nbformat_minor": 2
}
